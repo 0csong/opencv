{
 "cells": [
  {
   "cell_type": "code",
   "execution_count": 1,
   "id": "eb6b1c6a",
   "metadata": {},
   "outputs": [],
   "source": [
    "import cv2\n",
    "import numpy as np"
   ]
  },
  {
   "cell_type": "code",
   "execution_count": 2,
   "id": "05c2d778",
   "metadata": {},
   "outputs": [],
   "source": [
    "src = cv2.imread('./data/chessBoard.jpg')\n",
    "gray= cv2.cvtColor(src,cv2.COLOR_BGR2GRAY)"
   ]
  },
  {
   "cell_type": "code",
   "execution_count": 5,
   "id": "2e72fad2",
   "metadata": {},
   "outputs": [
    {
     "name": "stdout",
     "output_type": "stream",
     "text": [
      "len(kp)= 202\n"
     ]
    }
   ],
   "source": [
    "mserF = cv2.MSER_create(10)  # cv2.MSER.create(10) 주변보다 밝거나 어두운 영역으로 \n",
    "#임계값 범위에서 안정적인 영역 특징으로 검출\n",
    "kp= mserF.detect(gray)\n",
    "print('len(kp)=', len(kp))\n",
    "dst = cv2.drawKeypoints(gray, kp, None, color=(0,0,255))\n",
    "cv2.imshow('dst',  dst)#특징점 검출\n",
    "cv2.waitKey()\n",
    "cv2.destroyAllWindows()"
   ]
  },
  {
   "cell_type": "code",
   "execution_count": 9,
   "id": "d612e921",
   "metadata": {},
   "outputs": [],
   "source": [
    "dst2 = dst.copy()\n",
    "regions, bboxes = mserF.detectRegions(gray)\n",
    "hulls = [cv2.convexHull(p.reshape(-1, 1, 2)) for p in regions]\n",
    "cv2.polylines(dst2, hulls, True, (0, 255, 0))\n",
    "cv2.imshow('dst2',  dst2)#초록 다각형 표시\n",
    "cv2.waitKey()\n",
    "cv2.destroyAllWindows()"
   ]
  },
  {
   "cell_type": "code",
   "execution_count": 10,
   "id": "3c65d6c5",
   "metadata": {},
   "outputs": [],
   "source": [
    "dst3 = dst.copy()\n",
    "for i, pts in enumerate(regions):\n",
    "    box = cv2.fitEllipse(pts)\n",
    "    cv2.ellipse(dst3, box,  (255,0,0),1)\n",
    "    x, y, w, h = bboxes[i]\n",
    "    cv2.rectangle(dst3, (x, y), (x+w, y+h), (0,255,0))     \n",
    "cv2.imshow('dst3',  dst3)#타원 근사한 box를 파란색 타원으로 표시\n",
    "cv2.waitKey()\n",
    "cv2.destroyAllWindows()\n"
   ]
  },
  {
   "cell_type": "code",
   "execution_count": null,
   "id": "a645085a",
   "metadata": {},
   "outputs": [],
   "source": []
  }
 ],
 "metadata": {
  "kernelspec": {
   "display_name": "song",
   "language": "python",
   "name": "song"
  },
  "language_info": {
   "codemirror_mode": {
    "name": "ipython",
    "version": 3
   },
   "file_extension": ".py",
   "mimetype": "text/x-python",
   "name": "python",
   "nbconvert_exporter": "python",
   "pygments_lexer": "ipython3",
   "version": "3.8.10"
  }
 },
 "nbformat": 4,
 "nbformat_minor": 5
}
